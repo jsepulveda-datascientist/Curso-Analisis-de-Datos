{
 "cells": [
  {
   "attachments": {},
   "cell_type": "markdown",
   "metadata": {},
   "source": [
    "---\n",
    "\n",
    "# Ejercicios curso intensivo de Python"
   ]
  },
  {
   "attachments": {},
   "cell_type": "markdown",
   "metadata": {},
   "source": [
    "Cada pregunta tiene dos lineas, escriba la solución en la primera línea y compárela con el resultado de la segunda línea para ver si su respuesta es correcta."
   ]
  },
  {
   "attachments": {},
   "cell_type": "markdown",
   "metadata": {},
   "source": [
    "**1. Cuánto es 2 elevado a la potencia de 32?**"
   ]
  },
  {
   "cell_type": "code",
   "execution_count": 36,
   "metadata": {},
   "outputs": [
    {
     "data": {
      "text/plain": [
       "4294967296"
      ]
     },
     "execution_count": 36,
     "metadata": {},
     "output_type": "execute_result"
    }
   ],
   "source": [
    "2**32"
   ]
  },
  {
   "cell_type": "code",
   "execution_count": 47,
   "metadata": {},
   "outputs": [
    {
     "data": {
      "text/plain": [
       "4294967296"
      ]
     },
     "execution_count": 47,
     "metadata": {},
     "output_type": "execute_result"
    }
   ],
   "source": []
  },
  {
   "attachments": {},
   "cell_type": "markdown",
   "metadata": {},
   "source": [
    "#### 2. Calcule cuántas combinaciones posible de números ganadores del loto, suponiendo que son 35 numeros y se seleccionan 6 en cada sorteo\n",
    "\n",
    "Utilice el módulo math"
   ]
  },
  {
   "cell_type": "code",
   "execution_count": 39,
   "metadata": {},
   "outputs": [
    {
     "data": {
      "text/plain": [
       "1623160"
      ]
     },
     "execution_count": 39,
     "metadata": {},
     "output_type": "execute_result"
    }
   ],
   "source": []
  },
  {
   "cell_type": "code",
   "execution_count": 38,
   "metadata": {},
   "outputs": [
    {
     "data": {
      "text/plain": [
       "1623160"
      ]
     },
     "execution_count": 38,
     "metadata": {},
     "output_type": "execute_result"
    }
   ],
   "source": []
  },
  {
   "attachments": {},
   "cell_type": "markdown",
   "metadata": {},
   "source": [
    "#### 3. Considere las siguientes variables:\n",
    "\n",
    "    edad = 13798\n",
    "    evento = \"Big Bang\"\n",
    "    nombre = \"James Webb\"\n",
    "\n",
    "**Imprima la siguiente cadena de caracteres, inyectando las variables anteriores**\n",
    "\n",
    "    El universo se creó hace 13798 años por medio del Big Bang, aunque ahora los hallazgos del telescopio James Webb tiene desconcertados a los científicos."
   ]
  },
  {
   "cell_type": "code",
   "execution_count": 32,
   "metadata": {},
   "outputs": [
    {
     "data": {
      "text/plain": [
       "'El universo se creó hace 13798 años por medio del Big Bang, aunque ahora los hallazgos del telescopio James Webb tiene desconcertados a los científicos.'"
      ]
     },
     "execution_count": 32,
     "metadata": {},
     "output_type": "execute_result"
    }
   ],
   "source": []
  },
  {
   "cell_type": "code",
   "execution_count": 34,
   "metadata": {},
   "outputs": [
    {
     "data": {
      "text/plain": [
       "'El universo se creó hace 13798 años por medio del Big Bang, aunque ahora los hallazgos del telescopio James Webb tiene desconcertados a los científicos.'"
      ]
     },
     "execution_count": 34,
     "metadata": {},
     "output_type": "execute_result"
    }
   ],
   "source": [
    "\n"
   ]
  },
  {
   "attachments": {},
   "cell_type": "markdown",
   "metadata": {},
   "source": [
    "#### 4. Complete la siguiente función para que determine si usted va a exceso de velocidad en la carretera (máxima de 120 Km/h).\n",
    "Su función debe retornar, alguna de las siguientes cadenas de caracteres:\n",
    "- Velocidad OK\n",
    "- Exceso de Velocidad!"
   ]
  },
  {
   "cell_type": "code",
   "execution_count": 23,
   "metadata": {},
   "outputs": [],
   "source": [
    "def control_velocidad(velocidad):\n",
    "    ## SU CODIGO A CONTINUACION\n",
    "    return 'Exceso de Velocidad!'\n"
   ]
  },
  {
   "cell_type": "code",
   "execution_count": 24,
   "metadata": {},
   "outputs": [
    {
     "name": "stdout",
     "output_type": "stream",
     "text": [
      "Exceso de Velocidad!\n",
      "Exceso de Velocidad!\n",
      "Exceso de Velocidad!\n",
      "Exceso de Velocidad!\n"
     ]
    }
   ],
   "source": [
    "# pruebas de la funcion\n",
    "print(control_velocidad(50))\n",
    "print(control_velocidad(100))\n",
    "print(control_velocidad(120))\n",
    "print(control_velocidad(140))"
   ]
  },
  {
   "cell_type": "code",
   "execution_count": 31,
   "metadata": {},
   "outputs": [
    {
     "name": "stdout",
     "output_type": "stream",
     "text": [
      "Testeando valor (50). Resultado esperado 'Velocidad OK', obtenido 'Exceso de Velocidad!'.\n",
      "Testeando valor (100). Resultado esperado 'Velocidad OK', obtenido 'Exceso de Velocidad!'.\n",
      "Testeando valor (120). Resultado esperado 'Velocidad OK', obtenido 'Exceso de Velocidad!'.\n"
     ]
    }
   ],
   "source": [
    "# Testing automatizado, no modifique\n",
    "# Ejecute para evaluar los resultados\n",
    "a='Velocidad OK'\n",
    "b='Exceso de Velocidad!'\n",
    "test_cases = [(50,a),(100,a),(120,a),(140,b)]\n",
    "for case in test_cases:\n",
    "    try:\n",
    "        r = control_velocidad(case[0])\n",
    "        assert r == case[1], f\"Testeando valor ({case[0]}). Resultado esperado '{case[1]}', obtenido '{r}'.\"\n",
    "    except Exception as e:\n",
    "        print(e)"
   ]
  },
  {
   "attachments": {},
   "cell_type": "markdown",
   "metadata": {},
   "source": [
    "#### 5. Cree una función que determine si un número es par o no lo es, retornando un valor booleano"
   ]
  },
  {
   "cell_type": "code",
   "execution_count": 25,
   "metadata": {},
   "outputs": [],
   "source": [
    "def es_par(n):\n",
    "    # su código aquí\n",
    "    return False"
   ]
  },
  {
   "cell_type": "code",
   "execution_count": 26,
   "metadata": {},
   "outputs": [
    {
     "name": "stdout",
     "output_type": "stream",
     "text": [
      "False\n",
      "False\n",
      "False\n",
      "False\n"
     ]
    }
   ],
   "source": [
    "# pruebas aquí\n",
    "print(es_par(4))\n",
    "print(es_par(5))\n",
    "print(es_par(8))\n",
    "print(es_par(12))"
   ]
  },
  {
   "cell_type": "code",
   "execution_count": 30,
   "metadata": {},
   "outputs": [
    {
     "name": "stdout",
     "output_type": "stream",
     "text": [
      "Testeando valor (0). Resultado esperado 'True', obtenido 'False'.\n",
      "Testeando valor (2). Resultado esperado 'True', obtenido 'False'.\n",
      "Testeando valor (10). Resultado esperado 'True', obtenido 'False'.\n"
     ]
    }
   ],
   "source": [
    "# Testing automatizado, no modifique\n",
    "# Ejecute para evaluar los resultados\n",
    "a=True\n",
    "b=False\n",
    "test_cases = [(0,a),(1,b),(2,a),(5,b),(9,b), (10,a), (23,b)]\n",
    "for case in test_cases:\n",
    "    try:\n",
    "        r = es_par(case[0])\n",
    "        assert r == case[1], f\"Testeando valor ({case[0]}). Resultado esperado '{case[1]}', obtenido '{r}'.\"\n",
    "    except Exception as e:\n",
    "        print(e)"
   ]
  },
  {
   "attachments": {},
   "cell_type": "markdown",
   "metadata": {},
   "source": [
    "#### 6. Cree una función que permita calcular el área de un círculo a partir del radio"
   ]
  },
  {
   "cell_type": "code",
   "execution_count": 5,
   "metadata": {},
   "outputs": [
    {
     "name": "stdout",
     "output_type": "stream",
     "text": [
      "3.141592653589793\n",
      "12.566370614359172\n",
      "50.26548245743669\n"
     ]
    }
   ],
   "source": [
    "def area(r):\n",
    "    pass\n"
   ]
  },
  {
   "cell_type": "code",
   "execution_count": 8,
   "metadata": {},
   "outputs": [
    {
     "name": "stdout",
     "output_type": "stream",
     "text": [
      "3.141592653589793\n",
      "12.566370614359172\n",
      "50.26548245743669\n"
     ]
    }
   ],
   "source": [
    "print(area(1))\n",
    "print(area(2))\n",
    "print(area(4))"
   ]
  },
  {
   "attachments": {},
   "cell_type": "markdown",
   "metadata": {},
   "source": [
    "#### 7. Cree una función que calcule el área de un triángulo. Realice pruebas.\n",
    "\n",
    "Recuerde que el área de un triángulo es igual al producto de la base por la altura dividido por 2.\n"
   ]
  },
  {
   "cell_type": "code",
   "execution_count": 7,
   "metadata": {},
   "outputs": [
    {
     "name": "stdout",
     "output_type": "stream",
     "text": [
      "2.0\n",
      "8.0\n"
     ]
    }
   ],
   "source": []
  },
  {
   "cell_type": "code",
   "execution_count": 14,
   "metadata": {},
   "outputs": [
    {
     "name": "stdout",
     "output_type": "stream",
     "text": [
      "2.0\n",
      "8.0\n"
     ]
    }
   ],
   "source": [
    "print(t(2,2))\n",
    "print(t(4,4))"
   ]
  },
  {
   "attachments": {},
   "cell_type": "markdown",
   "metadata": {},
   "source": [
    "#### 8. Cree una función que permita calcular la medida de la hipotenusa de un triángulo a partir de las medidas de los catetos"
   ]
  },
  {
   "cell_type": "code",
   "execution_count": 8,
   "metadata": {},
   "outputs": [
    {
     "name": "stdout",
     "output_type": "stream",
     "text": [
      "5.0\n"
     ]
    }
   ],
   "source": []
  },
  {
   "cell_type": "code",
   "execution_count": 9,
   "metadata": {},
   "outputs": [
    {
     "name": "stdout",
     "output_type": "stream",
     "text": [
      "5.0\n"
     ]
    }
   ],
   "source": [
    "print(h(3,4))"
   ]
  },
  {
   "attachments": {},
   "cell_type": "markdown",
   "metadata": {},
   "source": [
    "#### 9. Cree una función \"f\" que retorne el cálculo de la siguiente fórmula. Haga pruebas.\n",
    "\n",
    "$$y=6x^{2}+3x+2$$"
   ]
  },
  {
   "cell_type": "code",
   "execution_count": 10,
   "metadata": {},
   "outputs": [
    {
     "name": "stdout",
     "output_type": "stream",
     "text": [
      "32\n",
      "167\n",
      "2462\n",
      "2342\n"
     ]
    }
   ],
   "source": []
  },
  {
   "cell_type": "code",
   "execution_count": 2,
   "metadata": {},
   "outputs": [
    {
     "name": "stdout",
     "output_type": "stream",
     "text": [
      "32\n",
      "167\n",
      "2462\n",
      "2342\n"
     ]
    }
   ],
   "source": [
    "print(f(2))\n",
    "print(f(5))\n",
    "print(f(20))\n",
    "print(f(-20))"
   ]
  },
  {
   "attachments": {},
   "cell_type": "markdown",
   "metadata": {},
   "source": [
    "#### 10. Año bisiesto\n",
    " Se define la función es_bisiesto que recibe un año como parámetro. La función verifica si el año es divisible por 4. Si lo es, se continúa verificando si es divisible por 100. Si es divisible por 100, se verifica si también es divisible por 400. Si cumple con estas condiciones, se considera un año bisiesto y la función devuelve True. En caso contrario, devuelve False."
   ]
  },
  {
   "cell_type": "code",
   "execution_count": 40,
   "metadata": {},
   "outputs": [],
   "source": []
  },
  {
   "cell_type": "code",
   "execution_count": 46,
   "metadata": {},
   "outputs": [
    {
     "name": "stdout",
     "output_type": "stream",
     "text": [
      "True\n",
      "False\n",
      "True\n",
      "False\n",
      "False\n"
     ]
    }
   ],
   "source": [
    "print(es_bisiesto(2024))\n",
    "print(es_bisiesto(2013))\n",
    "print(es_bisiesto(2000))\n",
    "print(es_bisiesto(1900))\n",
    "print(es_bisiesto(2100))"
   ]
  },
  {
   "attachments": {},
   "cell_type": "markdown",
   "metadata": {},
   "source": [
    "#### 11. Fiesta de ardillas fumadoras\n",
    "Cuando las ardillas se juntan para una fiesta, les gusta tener cigarros. Una fiesta de ardillas es exitosa cuando la cantidad de cigarros está entre 40 y 60, inclusive. A menos que sea el fin de semana, en cuyo caso no hay límite superior en la cantidad de cigarros. Implemente una función que devuelva True si se cumple la condición o caso contrario retorne False.\n",
    "\n",
    "Créditos: https://codingbat.com/prob/p195669"
   ]
  },
  {
   "cell_type": "code",
   "execution_count": 11,
   "metadata": {},
   "outputs": [
    {
     "name": "stdout",
     "output_type": "stream",
     "text": [
      "False\n",
      "True\n",
      "True\n",
      "False\n"
     ]
    }
   ],
   "source": []
  },
  {
   "cell_type": "code",
   "execution_count": 13,
   "metadata": {
    "scrolled": true
   },
   "outputs": [
    {
     "name": "stdout",
     "output_type": "stream",
     "text": [
      "False\n",
      "True\n",
      "True\n",
      "False\n"
     ]
    }
   ],
   "source": [
    "print(cigar_party(30, False))\n",
    "print(cigar_party(50, False))\n",
    "print(cigar_party(70, True))\n",
    "print(cigar_party(30, True))"
   ]
  },
  {
   "attachments": {},
   "cell_type": "markdown",
   "metadata": {},
   "source": [
    "#### 12. Atrapado corriendo\n",
    "Estás manejando un poquito rápido por la carretera y la policía te detiene. Escribe una función que retorne 3 posibles resultados: \"Sin infracción\", \"Infracción Leve\", \"Infracción Grave\". Si su velocidad es 60 o menos km/h, el resultado es \"Sin Infracción\". Si la velocidad está entre 61 y 80 inclusivo, el resultado es \"Infracción Leve\". Si la velocidad es 81 o más, el resultado es \"Infracción Grave\". Pero si usted estuviera de cumpleaños (valor booleano en la función), entonces usted puede ir 5 kms por hora más rápido en todos los casos.\n",
    "\n",
    "Créditos: https://codingbat.com/prob/p137202"
   ]
  },
  {
   "cell_type": "code",
   "execution_count": 12,
   "metadata": {},
   "outputs": [
    {
     "name": "stdout",
     "output_type": "stream",
     "text": [
      "Infraccion Leve\n",
      "Infraccion Grave\n"
     ]
    }
   ],
   "source": []
  },
  {
   "cell_type": "code",
   "execution_count": 13,
   "metadata": {},
   "outputs": [
    {
     "name": "stdout",
     "output_type": "stream",
     "text": [
      "Infraccion Leve\n",
      "Infraccion Grave\n"
     ]
    }
   ],
   "source": [
    "print(caught_speeding(81,True))\n",
    "print(caught_speeding(81,False))"
   ]
  },
  {
   "attachments": {},
   "cell_type": "markdown",
   "metadata": {},
   "source": [
    "---\n",
    "Material creado por:\n",
    "\n",
    "Jorge Sepulveda\n",
    "\n",
    "https://github.com/jsepulveda-datascientist\n",
    "\n",
    "2023"
   ]
  }
 ],
 "metadata": {
  "kernelspec": {
   "display_name": "Python 3",
   "language": "python",
   "name": "python3"
  },
  "language_info": {
   "codemirror_mode": {
    "name": "ipython",
    "version": 3
   },
   "file_extension": ".py",
   "mimetype": "text/x-python",
   "name": "python",
   "nbconvert_exporter": "python",
   "pygments_lexer": "ipython3",
   "version": "3.9.13"
  }
 },
 "nbformat": 4,
 "nbformat_minor": 1
}
